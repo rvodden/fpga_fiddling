{
 "cells": [
  {
   "cell_type": "code",
   "execution_count": 8,
   "metadata": {},
   "outputs": [
    {
     "data": {
      "text/plain": [
       "<Logger PySpice (INFO)>"
      ]
     },
     "execution_count": 8,
     "metadata": {},
     "output_type": "execute_result"
    }
   ],
   "source": [
    "import numpy as np\n",
    "import matplotlib.pyplot as plt\n",
    "import sys\n",
    "\n",
    "import PySpice\n",
    "import PySpice.Logging.Logging as Logging\n",
    "\n",
    "from PySpice.Spice.Netlist import Circuit\n",
    "from PySpice.Unit import *\n",
    "\n",
    "PySpice.Logging.Logging.setup_logging(application_name='PySpice', logging_level=\"INFO\")"
   ]
  },
  {
   "cell_type": "markdown",
   "metadata": {},
   "source": [
    "# Hardware calculations for the ICE40 UltraPlus Breakout\n",
    "\n",
    "## Steps 1, 2 & 3\n",
    "\n",
    "We need 5 LEDs to make these projects work. We'll attach these to pins 37A, 36B, 39A, 38B, and 43A on Header B.\n",
    "\n",
    "### LED Calculations\n",
    "\n",
    "Voltage drop across the LED is $~1.8V$. Supply volate is $3.3V$\n"
   ]
  },
  {
   "cell_type": "code",
   "execution_count": 9,
   "metadata": {},
   "outputs": [
    {
     "name": "stdout",
     "output_type": "stream",
     "text": [
      "$R$ = 49.999999999999986\n"
     ]
    }
   ],
   "source": [
    "MILLI = 0.001\n",
    "\n",
    "# Supply Voltage:\n",
    "\n",
    "V_CC = 3.3\n",
    "\n",
    "# Voltage drop across LED \n",
    "V_LED = 2.1\n",
    "\n",
    "# LED current = 20mA\n",
    "I_LED = 20 * MILLI\n",
    "\n",
    "# Voltage drop across Transistor\n",
    "V_CE = 0.2\n",
    "\n",
    "# Voltage drop across the resitor:\n",
    "V_R = V_CC - V_LED - V_CE\n",
    "\n",
    "# Resistance given current is I_LED\n",
    "\n",
    "R = V_R / I_LED;\n",
    "\n",
    "print(f\"$R$ = {R}\");\n"
   ]
  },
  {
   "cell_type": "markdown",
   "metadata": {},
   "source": [
    "Base resistance given the 2N3904 has a minimum $h_{FE}$ of 20, and that base resistance is given by $0.2  R h_{FE}$."
   ]
  },
  {
   "cell_type": "code",
   "execution_count": 10,
   "metadata": {},
   "outputs": [
    {
     "name": "stdout",
     "output_type": "stream",
     "text": [
      "R_B = 199.99999999999997\n"
     ]
    }
   ],
   "source": [
    "R_B = 0.2 * R * 20\n",
    "print(f\"R_B = {R_B}\")"
   ]
  },
  {
   "cell_type": "markdown",
   "metadata": {},
   "source": [
    "### LED Simulation"
   ]
  },
  {
   "cell_type": "code",
   "execution_count": 17,
   "metadata": {},
   "outputs": [
    {
     "name": "stdout",
     "output_type": "stream",
     "text": [
      "The circuit netlist:\n",
      "\n",
      " .title Voltage Divider\n",
      "Vinput input 0 10V\n",
      "R1 input output 9kOhm\n",
      "R2 output 0 1kOhm\n",
      "\n",
      "The voltage at the output node is 1.0V\n"
     ]
    },
    {
     "name": "stderr",
     "output_type": "stream",
     "text": [
      "/tmp/ipykernel_472544/3859741347.py:13: DeprecationWarning: Conversion of an array with ndim > 0 to a scalar is deprecated, and will error in future. Ensure you extract a single element from your array before performing this operation. (Deprecated NumPy 1.25.)\n",
      "  print(f\"The voltage at the output node is {float(analysis.nodes[\"output\"])}V\")\n"
     ]
    }
   ],
   "source": [
    "circuit = Circuit(\"Voltage Divider\")\n",
    "\n",
    "circuit.V('input', 'input', circuit.gnd, 10@u_V)\n",
    "circuit.R('1', 'input', 'output', 9@u_kOhm);\n",
    "circuit.R('2', 'output', circuit.gnd, 1@u_kOhm)\n",
    "\n",
    "simulator = circuit.simulator(temperature=25, nominal_temperature=25)\n",
    "\n",
    "print(\"The circuit netlist:\\n\\n\", circuit);\n",
    "\n",
    "analysis = simulator.operating_point()\n",
    "\n",
    "print(f\"The voltage at the output node is {float(analysis.nodes[\"output\"])}V\")"
   ]
  }
 ],
 "metadata": {
  "kernelspec": {
   "display_name": ".venv",
   "language": "python",
   "name": "python3"
  },
  "language_info": {
   "codemirror_mode": {
    "name": "ipython",
    "version": 3
   },
   "file_extension": ".py",
   "mimetype": "text/x-python",
   "name": "python",
   "nbconvert_exporter": "python",
   "pygments_lexer": "ipython3",
   "version": "3.13.0"
  }
 },
 "nbformat": 4,
 "nbformat_minor": 2
}
