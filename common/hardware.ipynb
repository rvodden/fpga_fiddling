{
 "cells": [
  {
   "cell_type": "markdown",
   "metadata": {},
   "source": [
    "# Hardware calculations for the ICE40 UltraPlus Breakout\n",
    "\n",
    "## Steps 1, 2 & 3\n",
    "\n",
    "We need 5 LEDs to make these projects work. We'll attach these to pins 37A, 36B, 39A, 38B, and 43A on Header B.\n",
    "\n",
    "Voltage drop across the LED is $~1.8V$. Supply volate is $3.3V$"
   ]
  },
  {
   "cell_type": "code",
   "execution_count": 13,
   "metadata": {},
   "outputs": [
    {
     "name": "stdout",
     "output_type": "stream",
     "text": [
      "$R$ = 49.999999999999986\n"
     ]
    }
   ],
   "source": [
    "MILLI = 0.001\n",
    "\n",
    "# Supply Voltage:\n",
    "\n",
    "V_CC = 3.3\n",
    "\n",
    "# Voltage drop across LED \n",
    "V_LED = 2.1\n",
    "\n",
    "# LED current = 20mA\n",
    "I_LED = 20 * MILLI\n",
    "\n",
    "# Voltage drop across Transistor\n",
    "V_CE = 0.2\n",
    "\n",
    "# Voltage drop across the resitor:\n",
    "V_R = V_CC - V_LED - V_CE\n",
    "\n",
    "# Resistance given current is I_LED\n",
    "\n",
    "R = V_R / I_LED;\n",
    "\n",
    "print(f\"$R$ = {R}\");\n"
   ]
  },
  {
   "cell_type": "markdown",
   "metadata": {},
   "source": [
    "Base resistance given the 2N3904 has a minimum $h_{FE}$ of 20, and that base resistance is given by $0.2  R h_{FE}$."
   ]
  },
  {
   "cell_type": "code",
   "execution_count": 14,
   "metadata": {},
   "outputs": [
    {
     "name": "stdout",
     "output_type": "stream",
     "text": [
      "R_B = 199.99999999999997\n"
     ]
    }
   ],
   "source": [
    "R_B = 0.2 * R * 20\n",
    "print(f\"R_B = {R_B}\")"
   ]
  }
 ],
 "metadata": {
  "kernelspec": {
   "display_name": ".venv",
   "language": "python",
   "name": "python3"
  },
  "language_info": {
   "codemirror_mode": {
    "name": "ipython",
    "version": 3
   },
   "file_extension": ".py",
   "mimetype": "text/x-python",
   "name": "python",
   "nbconvert_exporter": "python",
   "pygments_lexer": "ipython3",
   "version": "3.13.0"
  }
 },
 "nbformat": 4,
 "nbformat_minor": 2
}
